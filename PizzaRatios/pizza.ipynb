{
 "cells": [
  {
   "cell_type": "markdown",
   "metadata": {},
   "source": [
    "## Pizza Recipe Generator\n",
    "This notebook allows you to create a pre-ferment pizza dough allowing you to control the variables such as hydration % and number of dough balls.\n",
    "\n",
    "Defaults based on a fantastic 66% hydration pizza dough made by Randy on 8/6/2023."
   ]
  },
  {
   "cell_type": "code",
   "execution_count": 38,
   "metadata": {},
   "outputs": [],
   "source": [
    "# parameters\n",
    "# hydration percentage (ratio of water to flour)\n",
    "hydration = 0.66\n",
    "# salt percentage (ratio of salt to flour)\n",
    "salt = 0.02\n",
    "# number of dough balls\n",
    "dough_balls = 8\n",
    "# dough weight in unit specified below\n",
    "dough_ball_weight = 6\n",
    "unit = \"oz\""
   ]
  },
  {
   "cell_type": "code",
   "execution_count": 39,
   "metadata": {},
   "outputs": [],
   "source": [
    "\n",
    "# 1. Calculate total dough weight\n",
    "if unit == \"oz\":\n",
    "    total_weight = dough_balls * dough_ball_weight * 28.3495\n",
    "elif unit == \"g\":\n",
    "    total_weight = dough_balls * dough_ball_weight\n",
    "else:\n",
    "    print(\"Invalid unit\")\n",
    "\n"
   ]
  },
  {
   "cell_type": "code",
   "execution_count": 40,
   "metadata": {},
   "outputs": [
    {
     "name": "stdout",
     "output_type": "stream",
     "text": [
      "making 593 grams preferment\n",
      "Mix 357 grams flour and 236 grams water with 1/8 tsp yeast\n",
      "Let sit at room temperature overnight - this is your preferment\n",
      "Mix 500 grams flour, 330 grams water, 10 grams salt, and a little oil if you are using bread flour with your preferment\n",
      "correct amount of oil is a WIP\n",
      "Knead for 10 minutes\n",
      "Let rise\n",
      "Partition dough into 8 balls: 180 grams / 6.3 oz each\n",
      "Rest dough balls\n",
      "Make some epic pizza!\n"
     ]
    }
   ],
   "source": [
    "# preferment ratio\n",
    "r = 560/1360\n",
    "preferment_weight = total_weight * r\n",
    "print(f\"making {round(preferment_weight)} grams preferment\")\n",
    "preferment_flour = preferment_weight / (1+hydration)\n",
    "preferment_water = preferment_flour * hydration\n",
    "print(f\"Mix {round(preferment_flour)} grams flour and {round(preferment_water)} grams water with 1/8 tsp yeast\")\n",
    "print(f\"Let sit at room temperature overnight - this is your preferment\")\n",
    "# final dough\n",
    "total_flour = total_weight / (1 + hydration + salt)\n",
    "final_flour = total_flour - preferment_flour\n",
    "final_water = final_flour * hydration\n",
    "final_salt = final_flour * salt\n",
    "print(f\"Mix {round(final_flour)} grams flour, {round(final_water)} grams water, {round(final_salt)} grams salt, and a little oil if you are using bread flour with your preferment\")\n",
    "print(f\"correct amount of oil is a WIP\")\n",
    "print(f\"Knead for 10 minutes\")\n",
    "print(f\"Let rise\")\n",
    "if unit == \"g\":\n",
    "    dough_ball_weight = round(dough_ball_weight / 28.3495, 1)\n",
    "print(f\"Partition dough into {dough_balls} balls: {round(total_weight/dough_balls)} grams / {dough_ball_weight} oz each\")\n",
    "print(f\"Rest dough balls\")\n",
    "print(f\"Make some epic pizza!\")"
   ]
  },
  {
   "cell_type": "code",
   "execution_count": null,
   "metadata": {},
   "outputs": [],
   "source": []
  }
 ],
 "metadata": {
  "kernelspec": {
   "display_name": "base",
   "language": "python",
   "name": "python3"
  },
  "language_info": {
   "codemirror_mode": {
    "name": "ipython",
    "version": 3
   },
   "file_extension": ".py",
   "mimetype": "text/x-python",
   "name": "python",
   "nbconvert_exporter": "python",
   "pygments_lexer": "ipython3",
   "version": "3.10.11"
  },
  "orig_nbformat": 4
 },
 "nbformat": 4,
 "nbformat_minor": 2
}
